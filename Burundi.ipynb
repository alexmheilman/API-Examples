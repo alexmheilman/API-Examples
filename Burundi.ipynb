{
 "cells": [
  {
   "cell_type": "code",
   "execution_count": 3,
   "metadata": {},
   "outputs": [],
   "source": [
    "# Dependencies\n",
    "import requests\n",
    "from config import api_key\n",
    "\n",
    "# Save config information."
   ]
  },
  {
   "cell_type": "code",
   "execution_count": 19,
   "metadata": {},
   "outputs": [
    {
     "data": {
      "text/plain": [
       "{'coord': {'lon': 29.36, 'lat': -3.36},\n",
       " 'weather': [{'id': 500,\n",
       "   'main': 'Rain',\n",
       "   'description': 'light rain',\n",
       "   'icon': '10n'}],\n",
       " 'base': 'stations',\n",
       " 'main': {'temp': 20.74,\n",
       "  'feels_like': 21.27,\n",
       "  'temp_min': 20.74,\n",
       "  'temp_max': 20.74,\n",
       "  'pressure': 1013,\n",
       "  'humidity': 92,\n",
       "  'sea_level': 1013,\n",
       "  'grnd_level': 926},\n",
       " 'visibility': 10000,\n",
       " 'wind': {'speed': 2.07, 'deg': 22, 'gust': 2.73},\n",
       " 'rain': {'1h': 0.4},\n",
       " 'clouds': {'all': 100},\n",
       " 'dt': 1679621789,\n",
       " 'sys': {'country': 'BI', 'sunrise': 1679630754, 'sunset': 1679674317},\n",
       " 'timezone': 7200,\n",
       " 'id': 425374,\n",
       " 'name': 'Rohero',\n",
       " 'cod': 200}"
      ]
     },
     "execution_count": 19,
     "metadata": {},
     "output_type": "execute_result"
    }
   ],
   "source": [
    "# Build query URL and request your results in Celsius\n",
    "#https://api.openweathermap.org/data/2.5/weather?lat={lat}&lon={lon}&appid={API key}\n",
    "base_url = 'https://api.openweathermap.org/data/2.5/weather?lat='\n",
    "lat = str(-3.36)\n",
    "long = str(29.36)\n",
    "url = base_url + lat + '&lon=' + long + '&appid=' + api_key + '&units=metric'\n",
    "# Get weather data\n",
    "weather = requests.get(url).json()\n",
    "weather"
   ]
  },
  {
   "cell_type": "code",
   "execution_count": 20,
   "metadata": {},
   "outputs": [
    {
     "data": {
      "text/plain": [
       "20.74"
      ]
     },
     "execution_count": 20,
     "metadata": {},
     "output_type": "execute_result"
    }
   ],
   "source": [
    "# Get temperature from JSON response\n",
    "weather['main']['temp']"
   ]
  },
  {
   "cell_type": "code",
   "execution_count": 4,
   "metadata": {},
   "outputs": [
    {
     "name": "stdout",
     "output_type": "stream",
     "text": [
      "The temperature in Bujumbura is 21.75 C.\n"
     ]
    }
   ],
   "source": [
    "# Report temperature\n"
   ]
  },
  {
   "cell_type": "code",
   "execution_count": 22,
   "metadata": {},
   "outputs": [
    {
     "data": {
      "text/plain": [
       "[69.33, 20.74]"
      ]
     },
     "execution_count": 22,
     "metadata": {},
     "output_type": "execute_result"
    }
   ],
   "source": [
    "units = ['imperial','metric']\n",
    "temps = []\n",
    "\n",
    "for unit in units:\n",
    "    query_url = base_url + lat + '&lon=' + long + '&appid=' + api_key + '&units=' + unit\n",
    "    weather2 = requests.get(query_url).json()\n",
    "    temps.append(weather2['main']['temp'])\n",
    "    \n",
    "temps"
   ]
  }
 ],
 "metadata": {
  "kernelspec": {
   "display_name": "Python 3 (ipykernel)",
   "language": "python",
   "name": "python3"
  },
  "language_info": {
   "codemirror_mode": {
    "name": "ipython",
    "version": 3
   },
   "file_extension": ".py",
   "mimetype": "text/x-python",
   "name": "python",
   "nbconvert_exporter": "python",
   "pygments_lexer": "ipython3",
   "version": "3.9.13"
  },
  "varInspector": {
   "cols": {
    "lenName": 16,
    "lenType": 16,
    "lenVar": 40
   },
   "kernels_config": {
    "python": {
     "delete_cmd_postfix": "",
     "delete_cmd_prefix": "del ",
     "library": "var_list.py",
     "varRefreshCmd": "print(var_dic_list())"
    },
    "r": {
     "delete_cmd_postfix": ") ",
     "delete_cmd_prefix": "rm(",
     "library": "var_list.r",
     "varRefreshCmd": "cat(var_dic_list()) "
    }
   },
   "types_to_exclude": [
    "module",
    "function",
    "builtin_function_or_method",
    "instance",
    "_Feature"
   ],
   "window_display": false
  }
 },
 "nbformat": 4,
 "nbformat_minor": 2
}
